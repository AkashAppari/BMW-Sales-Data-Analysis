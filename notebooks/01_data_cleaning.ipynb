{
 "cells": [
  {
   "cell_type": "markdown",
   "metadata": {},
   "source": [
    "# 01 — Data Cleaning\n",
    "\n",
    "Purpose: produce a clean, analysis-ready CSV from the raw sales records. This notebook:\n",
    "\n",
    "- Loads raw CSV(s) from `data/raw/`\n",
    "- Handles missing values and duplicates\n",
    "- Normalizes column names and types\n",
    "- Exports cleaned CSV to `data/processed/BMW_Worldwide_Sales_Cleaned.csv`\n",
    "\n",
    "Run instructions: execute cells in order; no external inputs required beyond placing raw CSV(s) in `data/raw/`."
   ]
  },
  {
   "cell_type": "code",
   "execution_count": null,
   "metadata": {},
   "outputs": [],
   "source": [
    "# Import libraries\n",
    "import pandas as pd\n",
    "import os\n",
    "\n",
    "# Define file paths\n",
    "RAW_DATA_PATH = \"../data/raw/BMW_Worldwide_Sales_Records_2010_2024.csv\"\n",
    "PROCESSED_PATH = \"../data/processed/BMW_Worldwide_Sales_Cleaned.csv\""
   ]
  },
  {
   "cell_type": "code",
   "execution_count": null,
   "metadata": {},
   "outputs": [],
   "source": [
    "df = pd.read_csv(RAW_DATA_PATH)\n",
    "\n",
    "print(\"Shape:\", df.shape)\n",
    "df.head()\n"
   ]
  },
  {
   "cell_type": "code",
   "execution_count": null,
   "metadata": {},
   "outputs": [],
   "source": [
    "# Basic info\n",
    "print(\"Data info:\")\n",
    "print(df.info())\n",
    "\n",
    "# Check column names\n",
    "print(\"\\nColumns:\")\n",
    "print(df.columns.tolist())\n",
    "\n",
    "# Quick overview of numeric stats\n",
    "df.describe()\n"
   ]
  },
  {
   "cell_type": "code",
   "execution_count": null,
   "metadata": {},
   "outputs": [],
   "source": [
    "missing = df.isna().sum().sort_values(ascending=False)\n",
    "missing_percent = (missing / len(df)) * 100\n",
    "\n",
    "print(\"Missing values per column:\")\n",
    "print(pd.DataFrame({\"Missing_Count\": missing, \"Missing_Percent\": missing_percent.round(2)}))\n"
   ]
  },
  {
   "cell_type": "code",
   "execution_count": null,
   "metadata": {},
   "outputs": [],
   "source": [
    "duplicates = df.duplicated().sum()\n",
    "print(\"Duplicate rows found:\", duplicates)\n",
    "\n",
    "if duplicates > 0:\n",
    "    df = df.drop_duplicates()\n",
    "    print(\"Removed duplicates. New shape:\", df.shape)\n"
   ]
  },
  {
   "cell_type": "code",
   "execution_count": null,
   "metadata": {},
   "outputs": [],
   "source": [
    "# Separate numeric and object columns\n",
    "num_cols = df.select_dtypes(include=['number']).columns\n",
    "obj_cols = df.select_dtypes(include=['object']).columns\n",
    "\n",
    "# Fill numeric columns with median\n",
    "for col in num_cols:\n",
    "    median_val = df[col].median()\n",
    "    df[col].fillna(median_val, inplace=True)\n",
    "\n",
    "# Fill object columns with mode\n",
    "for col in obj_cols:\n",
    "    mode_val = df[col].mode()[0]\n",
    "    df[col].fillna(mode_val, inplace=True)\n",
    "\n",
    "print(\"Missing values after filling:\")\n",
    "print(df.isna().sum().sum())  # Should be 0 if all handled\n"
   ]
  },
  {
   "cell_type": "code",
   "execution_count": null,
   "metadata": {},
   "outputs": [],
   "source": [
    "print(\"Data shape after cleaning:\", df.shape)\n",
    "df.info()\n"
   ]
  },
  {
   "cell_type": "code",
   "execution_count": null,
   "metadata": {},
   "outputs": [],
   "source": [
    "# Save cleaned data for analysis in EDA notebook\n",
    "df.to_csv(PROCESSED_PATH, index=False)\n",
    "print(f\"Cleaned dataset saved to {PROCESSED_PATH}\")\n"
   ]
  },
  {
   "cell_type": "markdown",
   "metadata": {},
   "source": [
    "## Summary\n",
    "\n",
    "This notebook successfully cleaned the raw BMW sales dataset with the following outcomes:\n",
    "\n",
    "**Key Actions:**\n",
    "- Loaded 15 years of worldwide sales data (2010-2024)\n",
    "- Identified and removed duplicate records\n",
    "- Handled missing values using median (numeric) and mode (categorical) imputation\n",
    "- Validated data types and column consistency\n",
    "\n",
    "**Output:**\n",
    "- Clean dataset saved to `data/processed/BMW_Worldwide_Sales_Cleaned.csv`\n",
    "- Zero missing values in final dataset\n",
    "- Data ready for exploratory analysis and feature engineering\n",
    "\n",
    "**Next Steps:** Proceed to `02_eda.ipynb` for exploratory analysis and visualization of trends."
   ]
  }
 ],
 "metadata": {
  "kernelspec": {
   "display_name": "Python 3",
   "language": "python",
   "name": "python3"
  },
  "language_info": {
   "codemirror_mode": {
    "name": "ipython",
    "version": 3
   },
   "file_extension": ".py",
   "mimetype": "text/x-python",
   "name": "python",
   "nbconvert_exporter": "python",
   "pygments_lexer": "ipython3",
   "version": "3.9.6"
  }
 },
 "nbformat": 4,
 "nbformat_minor": 2
}
